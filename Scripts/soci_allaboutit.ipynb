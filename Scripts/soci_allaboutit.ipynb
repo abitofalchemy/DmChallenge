{
 "metadata": {
  "name": "",
  "signature": "sha256:68ce26308ff83d70facf67797461eeefe14b2acca407731b318dba1c905a6321"
 },
 "nbformat": 3,
 "nbformat_minor": 0,
 "worksheets": [
  {
   "cells": [
    {
     "cell_type": "heading",
     "level": 2,
     "metadata": {},
     "source": [
      "Process Tweets"
     ]
    },
    {
     "cell_type": "heading",
     "level": 3,
     "metadata": {},
     "source": [
      "Tweets' Basic Statistics"
     ]
    },
    {
     "cell_type": "code",
     "collapsed": false,
     "input": [
      "from sciTweetBlobs import describe_tweets\n",
      "from sciTweetBlobs import processTweet\n",
      "from sciTweetBlobs import parse_sci_tweets\n",
      "import pandas as pd\n",
      "%matplotlib inline\n",
      "import matplotlib.pyplot as plt\n",
      "import numpy as np\n",
      "from pattern.en import parse\n",
      "import nltk"
     ],
     "language": "python",
     "metadata": {},
     "outputs": [],
     "prompt_number": 23
    },
    {
     "cell_type": "code",
     "collapsed": false,
     "input": [
      "# gen stats on given tweets\n",
      "stats_list = describe_tweets('../untrkdData/tweets.send.json');"
     ],
     "language": "python",
     "metadata": {},
     "outputs": [],
     "prompt_number": 16
    },
    {
     "cell_type": "code",
     "collapsed": false,
     "input": [
      "# import matplotlib.pyplot as plt\n",
      "df = pd.DataFrame.from_dict(stats_list);\n",
      "# print df.head(), df.shape\n",
      "#df.hist(column=[\"fv_cnt\",\"hstgs_cnt\",\"rt_cnt\",\"url_cnt\",\"usr_ment_cnt\"]);\n",
      "with plt.rc_context(rc={'font.family': 'helvetica', 'font.weight': 'normal', 'font.size': 12}):\n",
      "#df.hist(column=[\"fv_cnt\",\"hstgs_cnt\",\"rt_cnt\",\"url_cnt\",\"usr_ment_cnt\"]);\n",
      "    df.sum().plot(kind='bar')\n",
      "#pData['CIT'].value_counts().plot(kind='bar');"
     ],
     "language": "python",
     "metadata": {},
     "outputs": [
      {
       "metadata": {},
       "output_type": "display_data",
       "png": "[encoded data removed]",
       "text": [
        "<matplotlib.figure.Figure at 0x1145c1d50>"
       ]
      }
     ],
     "prompt_number": 17
    },
    {
     "cell_type": "heading",
     "level": 3,
     "metadata": {},
     "source": [
      "Filter Tweets by English Only"
     ]
    },
    {
     "cell_type": "code",
     "collapsed": false,
     "input": [
      "cleaned_tweets = parse_sci_tweets('../untrkdData/tweets.send.json')"
     ],
     "language": "python",
     "metadata": {},
     "outputs": [
      {
       "output_type": "stream",
       "stream": "stdout",
       "text": [
        "53779 tweets processed\n"
       ]
      }
     ],
     "prompt_number": 19
    },
    {
     "cell_type": "heading",
     "level": 3,
     "metadata": {},
     "source": [
      "Tweets preprocessed"
     ]
    },
    {
     "cell_type": "code",
     "collapsed": false,
     "input": [
      "# preprocess tweets\n",
      "prproc_tweets = []\n",
      "for tweet in cleaned_tweets:\n",
      "    prproc_tweets.append( processTweet(tweet['text']) )\n",
      "print prproc_tweets[0]"
     ],
     "language": "python",
     "metadata": {},
     "outputs": [
      {
       "output_type": "stream",
       "stream": "stdout",
       "text": [
        "i have completed the quest 'another try' in the android game the tribez. URL androidgames, gameinsight\n"
       ]
      }
     ],
     "prompt_number": 21
    },
    {
     "cell_type": "heading",
     "level": 3,
     "metadata": {},
     "source": [
      "Tweet annotated with word types"
     ]
    },
    {
     "cell_type": "code",
     "collapsed": false,
     "input": [
      "# txt annotated with word types\n",
      "txt_ann = []\n",
      "for clnd_twts in prproc_tweets:\n",
      "    #data = parse(clnd_twts['text'], relation=True, lematta=True)\n",
      "    #print data, type(data), np.size(data)\n",
      "    tokens = nltk.word_tokenize(clnd_twts)\n",
      "    print nltk.pos_tag(tokens)\n",
      "    break"
     ],
     "language": "python",
     "metadata": {},
     "outputs": [
      {
       "output_type": "stream",
       "stream": "stdout",
       "text": [
        "[(u'i', 'PRP'), (u'have', 'VBP'), (u'completed', 'VBN'), (u'the', 'DT'), (u'quest', 'JJS'), (u\"'another\", 'JJ'), (u'try', 'NN'), (u\"'\", \"''\"), (u'in', 'IN'), (u'the', 'DT'), (u'android', 'JJ'), (u'game', 'NN'), (u'the', 'DT'), (u'tribez', 'NN'), (u'.', '.'), (u'URL', 'NNP'), (u'androidgames', 'VBZ'), (u',', ','), (u'gameinsight', 'NN')]\n"
       ]
      }
     ],
     "prompt_number": 25
    },
    {
     "cell_type": "heading",
     "level": 6,
     "metadata": {},
     "source": [
      "From either of these two last sets we can run google/wikipedia google to generate the topics per tweet"
     ]
    },
    {
     "cell_type": "markdown",
     "metadata": {},
     "source": []
    },
    {
     "cell_type": "code",
     "collapsed": false,
     "input": [],
     "language": "python",
     "metadata": {},
     "outputs": []
    }
   ],
   "metadata": {}
  }
 ]
}