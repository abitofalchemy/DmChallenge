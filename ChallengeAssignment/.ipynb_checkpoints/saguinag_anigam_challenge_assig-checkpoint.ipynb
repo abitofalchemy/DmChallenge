{
 "metadata": {
  "name": "",
  "signature": "sha256:8b51b12e47db2f155df1a86791bc7b6a1c6b2d5275ae03786c4ac3940ebb515d"
 },
 "nbformat": 3,
 "nbformat_minor": 0,
 "worksheets": [
  {
   "cells": [
    {
     "cell_type": "markdown",
     "metadata": {},
     "source": [
      "Challenge Assignment\n",
      "====================\n",
      "\n",
      "S. Aguinaga, A. Nigam\n",
      "---------------------\n"
     ]
    },
    {
     "cell_type": "markdown",
     "metadata": {},
     "source": [
      "Dec. 13, 2014\n",
      "</br>\n"
     ]
    },
    {
     "cell_type": "markdown",
     "metadata": {},
     "source": [
      "Workspace:\n",
      "-----------"
     ]
    },
    {
     "cell_type": "code",
     "collapsed": false,
     "input": [
      "import pandas as pd\n",
      "\n",
      "# read the classification dataset\n",
      "with open(\"class_challenge_train.csv\",\"rb\") as inFile:\n",
      "    in_data_0 = []\n",
      "    #cols = inFile.readline().rstrip(\"\\r\\n\")\n",
      "    #print cols\n",
      "    for line in inFile:\n",
      "        in_data_0.append(line.rstrip(\"\\r\\n\"))\n",
      "    # convert to dataframe\n",
      "    cds_df = pd.DataFrame(in_data_0) \n",
      "    print cds_df\n",
      "    "
     ],
     "language": "python",
     "metadata": {},
     "outputs": [
      {
       "output_type": "stream",
       "stream": "stdout",
       "text": [
        "  attr1,attr2,attr3,attr4,attr5,attr6,attr7,attr8,attr9,attr10,attr11,attr12,attr13,attr14,attr15,attr16,attr17,attr18,attr19,attr20,attr21,attr22,attr23,attr24,attr25,attr26,attr27,attr28,attr29,attr30,attr31,attr32,attr33,attr34,attr35,attr36,attr37,attr38,attr39,attr40,attr41,attr42,attr43,attr44,attr45,attr46,attr47,attr48,class\n",
        "0  0,1,1,32,0,0,0,1,0,0,0,0,0,0,812,0,0,0,0,0,0,0...                                                                                                                                                                                                                                                                                          \n",
        "1  0,0,1,133,0,0,1,0,0,0,0,0,0,0,437,0,0,0,1,0,0,...                                                                                                                                                                                                                                                                                          \n",
        "2  0,0,0,109,0,0,0,1,0,0,0,0,0,0,812,1,0,0,1,0,0,...                                                                                                                                                                                                                                                                                          \n",
        "3  0,0,0,113,0,0,0,1,0,0,0,0,0,0,812,1,0,0,1,0,0,...                                                                                                                                                                                                                                                                                          \n",
        "4  0,0,0,120,0,0,0,1,0,0,0,0,0,0,562,0,0,0,1,1,0,...                                                                                                                                                                                                                                                                                          \n"
       ]
      }
     ],
     "prompt_number": 15
    },
    {
     "cell_type": "markdown",
     "metadata": {},
     "source": [
      "Predictions on the Testing Set\n",
      "------------------------------"
     ]
    },
    {
     "cell_type": "code",
     "collapsed": false,
     "input": [],
     "language": "python",
     "metadata": {},
     "outputs": []
    }
   ],
   "metadata": {}
  }
 ]
}