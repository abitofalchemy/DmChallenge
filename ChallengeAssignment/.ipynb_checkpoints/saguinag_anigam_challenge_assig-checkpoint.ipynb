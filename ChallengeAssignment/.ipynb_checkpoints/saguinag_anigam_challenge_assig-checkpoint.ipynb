{
 "metadata": {
  "name": "",
  "signature": "sha256:b78c9a515c669ceb34948f762075cafc8318c5553638566f2486b94ad4aa4f27"
 },
 "nbformat": 3,
 "nbformat_minor": 0,
 "worksheets": [
  {
   "cells": [
    {
     "cell_type": "markdown",
     "metadata": {},
     "source": [
      "Challenge Assignment\n",
      "====================\n",
      "\n",
      "S. Aguinaga, A. Nigam\n",
      "---------------------\n"
     ]
    },
    {
     "cell_type": "markdown",
     "metadata": {},
     "source": [
      "Dec. 13, 2014\n",
      "</br>\n"
     ]
    },
    {
     "cell_type": "heading",
     "level": 1,
     "metadata": {},
     "source": [
      "Workspace:\n",
      "-----------"
     ]
    },
    {
     "cell_type": "heading",
     "level": 1,
     "metadata": {},
     "source": [
      "Classification"
     ]
    },
    {
     "cell_type": "code",
     "collapsed": false,
     "input": [
      "import pandas as pd\n",
      "\n",
      "cds_df_train=pd.read_csv('class_challenge_train.csv')\n",
      "#print cds_df_train.head()\n",
      "\n",
      "cds_df_test=pd.read_csv('class_challenge_test.csv')\n",
      "\n",
      "traindata_cds=cds_df_train.drop('class',1)\n",
      "trainlabel_cds=cds_df_train['class']\n",
      "print traindata_cds.head()\n",
      "print trainlabel_cds.head()\n",
      "\n",
      "testdata_cds=cds_df_test.drop('class',1)\n",
      "testlabel_cds=cds_df_test['class']\n",
      "\n",
      "from sklearn import svm\n",
      "clf = svm.SVC()\n",
      "clf.fit(traindata_cds, trainlabel_cds)\n",
      "clf.predict(testdata_cds)\n",
      "\n"
     ],
     "language": "python",
     "metadata": {},
     "outputs": [
      {
       "output_type": "stream",
       "stream": "stdout",
       "text": [
        "   attr1  attr2  attr3  attr4  attr5  attr6  attr7  attr8  attr9  attr10  \\\n",
        "0      0      1      1     32      0      0      0      1      0       0   \n",
        "1      0      0      1    133      0      0      1      0      0       0   \n",
        "2      0      0      0    109      0      0      0      1      0       0   \n",
        "3      0      0      0    113      0      0      0      1      0       0   \n",
        "4      0      0      0    120      0      0      0      1      0       0   \n",
        "\n",
        "    ...    attr40  attr41  attr42  attr43  attr44  attr45  attr46  attr47  \\\n",
        "0   ...       404       1       0       0       0       0       0       0   \n",
        "1   ...       242       0       0       0       0       0       0       0   \n",
        "2   ...       404       1       0       0       0       0       0       0   \n",
        "3   ...       404       0       0       0       1       0       1       0   \n",
        "4   ...       303       0       1       0       0       0       0       0   \n",
        "\n",
        "   attr48  class  \n",
        "0       0     -1  \n",
        "1       0     -1  \n",
        "2       0     -1  \n",
        "3       0      1  \n",
        "4       0     -1  \n",
        "\n",
        "[5 rows x 49 columns]\n"
       ]
      },
      {
       "ename": "TypeError",
       "evalue": "'DataFrame' object is not callable",
       "output_type": "pyerr",
       "traceback": [
        "\u001b[0;31m---------------------------------------------------------------------------\u001b[0m\n\u001b[0;31mTypeError\u001b[0m                                 Traceback (most recent call last)",
        "\u001b[0;32m<ipython-input-14-2a4837635cac>\u001b[0m in \u001b[0;36m<module>\u001b[0;34m()\u001b[0m\n\u001b[1;32m      6\u001b[0m \u001b[0mcds_df_test\u001b[0m\u001b[0;34m=\u001b[0m\u001b[0mpd\u001b[0m\u001b[0;34m.\u001b[0m\u001b[0mread_csv\u001b[0m\u001b[0;34m(\u001b[0m\u001b[0;34m'class_challenge_test.csv'\u001b[0m\u001b[0;34m)\u001b[0m\u001b[0;34m\u001b[0m\u001b[0m\n\u001b[1;32m      7\u001b[0m \u001b[0;34m\u001b[0m\u001b[0m\n\u001b[0;32m----> 8\u001b[0;31m \u001b[0mtraindata_cds\u001b[0m\u001b[0;34m=\u001b[0m\u001b[0mcds_df_train\u001b[0m\u001b[0;34m(\u001b[0m\u001b[0;34m'class'\u001b[0m\u001b[0;34m,\u001b[0m\u001b[0;36m1\u001b[0m\u001b[0;34m)\u001b[0m\u001b[0;34m\u001b[0m\u001b[0m\n\u001b[0m\u001b[1;32m      9\u001b[0m \u001b[0mtrainlabel_cds\u001b[0m\u001b[0;34m=\u001b[0m\u001b[0mcds_df_train\u001b[0m\u001b[0;34m[\u001b[0m\u001b[0;34m'class'\u001b[0m\u001b[0;34m]\u001b[0m\u001b[0;34m\u001b[0m\u001b[0m\n\u001b[1;32m     10\u001b[0m \u001b[0;32mprint\u001b[0m \u001b[0mtraindata_cds\u001b[0m\u001b[0;34m.\u001b[0m\u001b[0mhead\u001b[0m\u001b[0;34m(\u001b[0m\u001b[0;34m)\u001b[0m\u001b[0;34m\u001b[0m\u001b[0m\n",
        "\u001b[0;31mTypeError\u001b[0m: 'DataFrame' object is not callable"
       ]
      }
     ],
     "prompt_number": 14
    },
    {
     "cell_type": "heading",
     "level": 1,
     "metadata": {},
     "source": [
      "Regression"
     ]
    },
    {
     "cell_type": "code",
     "collapsed": false,
     "input": [
      "rds_df=pd.read_csv('reg_challenge_train.csv')\n",
      "#print rds_df\n"
     ],
     "language": "python",
     "metadata": {},
     "outputs": []
    },
    {
     "cell_type": "code",
     "collapsed": false,
     "input": [
      "import pandas as pd\n",
      "\n",
      "# read the classification dataset\n",
      "with open(\"class_challenge_train.csv\",\"rb\") as inFile:\n",
      "    in_data_0 = []\n",
      "    #cols = inFile.readline().rstrip(\"\\r\\n\")\n",
      "    #print cols\n",
      "    for line in inFile:\n",
      "        in_data_0.append(line.rstrip(\"\\r\\n\"))\n",
      "# convert to dataframe\n",
      "cds_df = pd.DataFrame(in_data_0) \n",
      "print cds_df.head()\n",
      "\n",
      "# read the regression training data\n",
      "with open(\"reg_challenge_train.csv\",\"rb\") as inFile:\n",
      "    in_data_0 = []\n",
      "    #cols = inFile.readline().rstrip(\"\\r\\n\")\n",
      "    #print cols\n",
      "    for line in inFile:\n",
      "        in_data_0.append(line.rstrip(\"\\r\\n\"))\n",
      "# convert to dataframe\n",
      "rds_df = pd.DataFrame(in_data_0) \n",
      "print rds_df.head()\n",
      "    "
     ],
     "language": "python",
     "metadata": {},
     "outputs": [
      {
       "output_type": "stream",
       "stream": "stdout",
       "text": [
        "                                                   0\n",
        "0  attr1,attr2,attr3,attr4,attr5,attr6,attr7,attr...\n",
        "1  0,1,1,32,0,0,0,1,0,0,0,0,0,0,812,0,0,0,0,0,0,0...\n",
        "2  0,0,1,133,0,0,1,0,0,0,0,0,0,0,437,0,0,0,1,0,0,...\n",
        "3  0,0,0,109,0,0,0,1,0,0,0,0,0,0,812,1,0,0,1,0,0,...\n",
        "4  0,0,0,113,0,0,0,1,0,0,0,0,0,0,812,1,0,0,1,0,0,...\n",
        "                                                   0\n",
        "0  attr1,attr2,attr3,attr4,attr5,attr6,attr7,attr...\n",
        "1  65,6,2532,166,125,0.6,0.8,38998,80415,6.19,20....\n",
        "2  26,39,1722,139,114,0.2,0.2,163304,47725,14.6,1...\n",
        "3  3,1,544,80,27,1,0.4,368791,4454,0,0,0,0,0.4,0,...\n",
        "4  60,31,6355,358,264,6,13.8,251366,242337,0,0,0,..."
       ]
      },
      {
       "output_type": "stream",
       "stream": "stdout",
       "text": [
        "\n"
       ]
      }
     ],
     "prompt_number": 19
    },
    {
     "cell_type": "markdown",
     "metadata": {},
     "source": [
      "Predictions on the Testing Set\n",
      "------------------------------"
     ]
    },
    {
     "cell_type": "code",
     "collapsed": false,
     "input": [],
     "language": "python",
     "metadata": {},
     "outputs": []
    }
   ],
   "metadata": {}
  }
 ]
}