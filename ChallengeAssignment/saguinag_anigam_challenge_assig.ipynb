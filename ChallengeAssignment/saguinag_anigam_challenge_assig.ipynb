{
 "metadata": {
  "name": "",
  "signature": "sha256:5efdeb0bb6b6392ade4744d10f5f159388f7aa5e6eee0b5331248ce8d30ea7b7"
 },
 "nbformat": 3,
 "nbformat_minor": 0,
 "worksheets": [
  {
   "cells": [
    {
     "cell_type": "markdown",
     "metadata": {},
     "source": [
      "Challenge Assignment\n",
      "====================\n",
      "\n",
      "S. Aguinaga, A. Nigam\n",
      "---------------------\n"
     ]
    },
    {
     "cell_type": "markdown",
     "metadata": {},
     "source": [
      "Dec. 13, 2014\n",
      "</br>\n"
     ]
    },
    {
     "cell_type": "heading",
     "level": 1,
     "metadata": {},
     "source": [
      "Workspace:\n",
      "-----------"
     ]
    },
    {
     "cell_type": "heading",
     "level": 1,
     "metadata": {},
     "source": [
      "Classification"
     ]
    },
    {
     "cell_type": "code",
     "collapsed": false,
     "input": [
      "import pandas as pd\n",
      "\n",
      "cds_df_train=pd.read_csv('class_challenge_train.csv')\n",
      "#print cds_df_train.head()\n",
      "\n",
      "cds_df_test=pd.read_csv('class_challenge_test.csv')\n",
      "\n",
      "traindata_cds=cds_df_train.drop('class',1) \n",
      "trainlabel_cds=cds_df_train['class']\n",
      "print traindata_cds.head()\n",
      "print trainlabel_cds.head()\n",
      "\n",
      "testdata_cds=cds_df_test.drop('class',1)\n",
      "testlabel_cds=cds_df_test['class']\n",
      "\n"
     ],
     "language": "python",
     "metadata": {},
     "outputs": [
      {
       "output_type": "stream",
       "stream": "stdout",
       "text": [
        "   attr1  attr2  attr3  attr4  attr5  attr6  attr7  attr8  attr9  attr10  \\\n",
        "0      0      1      1     32      0      0      0      1      0       0   \n",
        "1      0      0      1    133      0      0      1      0      0       0   \n",
        "2      0      0      0    109      0      0      0      1      0       0   \n",
        "3      0      0      0    113      0      0      0      1      0       0   \n",
        "4      0      0      0    120      0      0      0      1      0       0   \n",
        "\n",
        "    ...    attr39  attr40  attr41  attr42  attr43  attr44  attr45  attr46  \\\n",
        "0   ...         0     404       1       0       0       0       0       0   \n",
        "1   ...         0     242       0       0       0       0       0       0   \n",
        "2   ...         0     404       1       0       0       0       0       0   \n",
        "3   ...         0     404       0       0       0       1       0       1   \n",
        "4   ...         0     303       0       1       0       0       0       0   \n",
        "\n",
        "   attr47  attr48  \n",
        "0       0       0  \n",
        "1       0       0  \n",
        "2       0       0  \n",
        "3       0       0  \n",
        "4       0       0  \n",
        "\n",
        "[5 rows x 48 columns]\n",
        "0   -1\n",
        "1   -1\n",
        "2   -1\n",
        "3    1\n",
        "4   -1\n",
        "Name: class, dtype: int64\n"
       ]
      }
     ],
     "prompt_number": 1
    },
    {
     "cell_type": "code",
     "collapsed": false,
     "input": [
      "from sklearn import svm\n",
      "from sklearn import cross_validation\n",
      "\n",
      "## this section is taking an significant time to run-through\n",
      "clf = svm.SVC(kernel='linear',C=1)\n",
      "scores = cross_validation.cross_val_score(clf, traindata_cds, trainlabel_cds, cv=10)\n",
      "print scores.mean()\n",
      "#print \"Standard deviation\", scores.std()\n",
      "\n",
      "# clf.fit(traindata_cds, trainlabel_cds)\n",
      "\n",
      "# cds_yhat=clf.predict(testdata_cds)\n",
      "# print cds_yhat\n"
     ],
     "language": "python",
     "metadata": {},
     "outputs": []
    },
    {
     "cell_type": "heading",
     "level": 1,
     "metadata": {},
     "source": [
      "Regression"
     ]
    },
    {
     "cell_type": "code",
     "collapsed": false,
     "input": [
      "rds_df_train=pd.read_csv('reg_challenge_train.csv')\n",
      "rds_df_test=pd.read_csv('reg_challenge_test.csv')\n",
      "\n",
      "traindata_rds=rds_df_train.drop('target',1)\n",
      "trainlabel_rds=rds_df_train['target']\n",
      "#print traindata_cds.head()\n",
      "#print trainlabel_cds.head()\n",
      "\n",
      "testdata_rds=rds_df_test.drop('target',1)\n",
      "testlabel_rds=rds_df_test['target']\n",
      "\n",
      "from sklearn import linear_model\n",
      "\n",
      "# Create linear regression object\n",
      "regr = linear_model.LinearRegression()\n",
      "\n",
      "# Train the model using the training sets\n",
      "regr.fit(traindata_rds, trainlabel_rds)\n",
      "\n"
     ],
     "language": "python",
     "metadata": {},
     "outputs": [
      {
       "metadata": {},
       "output_type": "pyout",
       "prompt_number": 3,
       "text": [
        "LinearRegression(copy_X=True, fit_intercept=True, normalize=False)"
       ]
      }
     ],
     "prompt_number": 3
    },
    {
     "cell_type": "markdown",
     "metadata": {},
     "source": [
      "We can directly read the data in dataframe format using pandas...I used that...from my understanding of the code below you wanted to read the file..right? did i miss something? ** Yes, you are right that's what I wanted. Didn't know we could it with the read_csv method.**"
     ]
    },
    {
     "cell_type": "markdown",
     "metadata": {},
     "source": [
      "Predictions on the Testing Set\n",
      "------------------------------"
     ]
    },
    {
     "cell_type": "code",
     "collapsed": false,
     "input": [],
     "language": "python",
     "metadata": {},
     "outputs": []
    }
   ],
   "metadata": {}
  }
 ]
}