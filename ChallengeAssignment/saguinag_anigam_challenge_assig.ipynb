{
 "metadata": {
  "name": "",
  "signature": "sha256:ce224ae317d2afe0aae4a028652f8492a54c7d227c9e4fd5bfe08dc0a04ad8a2"
 },
 "nbformat": 3,
 "nbformat_minor": 0,
 "worksheets": [
  {
   "cells": [
    {
     "cell_type": "markdown",
     "metadata": {},
     "source": [
      "Challenge Assignment\n",
      "====================\n",
      "\n",
      "S. Aguinaga, A. Nigam\n",
      "---------------------\n"
     ]
    },
    {
     "cell_type": "markdown",
     "metadata": {},
     "source": [
      "Dec. 13, 2014\n",
      "</br>\n"
     ]
    },
    {
     "cell_type": "heading",
     "level": 1,
     "metadata": {},
     "source": [
      "Workspace:\n",
      "-----------"
     ]
    },
    {
     "cell_type": "heading",
     "level": 1,
     "metadata": {},
     "source": [
      "Classification"
     ]
    },
    {
     "cell_type": "code",
     "collapsed": false,
     "input": [
      "import pandas as pd\n",
      "\n",
      "cds_df_train=pd.read_csv('class_challenge_train.csv')\n",
      "#print cds_df_train.head()\n",
      "\n",
      "cds_df_test=pd.read_csv('class_challenge_test.csv')\n",
      "\n",
      "traindata_cds=cds_df_train.drop('class',1)\n",
      "trainlabel_cds=cds_df_train['class']\n",
      "#print traindata_cds.head()\n",
      "#print trainlabel_cds.head()\n",
      "\n",
      "testdata_cds=cds_df_test.drop('class',1)\n",
      "testlabel_cds=cds_df_test['class']\n",
      "\n",
      "from sklearn import svm\n",
      "from sklearn import cross_validation\n",
      "\n",
      "clf = svm.SVC(kernel='linear',C=1)\n",
      "scores = cross_validation.cross_val_score(clf, traindata_cds, trainlabel_cds, cv=10)\n",
      "print scores.mean()\n",
      "#print \"Standard deviation\", scores.std()\n",
      "\n",
      "clf.fit(traindata_cds, trainlabel_cds)\n",
      "\n",
      "cds_yhat=clf.predict(testdata_cds)\n",
      "print cds_yhat\n"
     ],
     "language": "python",
     "metadata": {},
     "outputs": []
    },
    {
     "cell_type": "heading",
     "level": 1,
     "metadata": {},
     "source": [
      "Regression"
     ]
    },
    {
     "cell_type": "code",
     "collapsed": false,
     "input": [
      "rds_df_train=pd.read_csv('reg_challenge_train.csv')\n",
      "#print cds_df_train.head()\n",
      "\n",
      "rds_df_test=pd.read_csv('reg_challenge_test.csv')\n",
      "\n",
      "traindata_rds=rds_df_train.drop('target',1)\n",
      "trainlabel_rds=rds_df_train['target']\n",
      "#print traindata_cds.head()\n",
      "#print trainlabel_cds.head()\n",
      "\n",
      "testdata_rds=rds_df_test.drop('target',1)\n",
      "testlabel_rds=rds_df_test['target']\n",
      "\n",
      "from sklearn import linear_model\n",
      "\n",
      "# Create linear regression object\n",
      "regr = linear_model.LinearRegression()\n",
      "\n",
      "# Train the model using the training sets\n",
      "regr.fit(traindata_rds, trainlabel_rds)\n",
      "\n"
     ],
     "language": "python",
     "metadata": {},
     "outputs": [],
     "prompt_number": 19
    },
    {
     "cell_type": "markdown",
     "metadata": {},
     "source": [
      "We can directly read the data in dataframe format using pandas...I used that...from my understanding of the code below you wanted to read the file..right? did i miss something?"
     ]
    },
    {
     "cell_type": "code",
     "collapsed": false,
     "input": [
      "import pandas as pd\n",
      "\n",
      "# read the classification dataset\n",
      "with open(\"class_challenge_train.csv\",\"rb\") as inFile:\n",
      "    in_data_0 = []\n",
      "    #cols = inFile.readline().rstrip(\"\\r\\n\")\n",
      "    #print cols\n",
      "    for line in inFile:\n",
      "        in_data_0.append(line.rstrip(\"\\r\\n\"))\n",
      "# convert to dataframe\n",
      "cds_df = pd.DataFrame(in_data_0) \n",
      "print cds_df.head()\n",
      "\n",
      "# read the regression training data\n",
      "with open(\"reg_challenge_train.csv\",\"rb\") as inFile:\n",
      "    in_data_0 = []\n",
      "    #cols = inFile.readline().rstrip(\"\\r\\n\")\n",
      "    #print cols\n",
      "    for line in inFile:\n",
      "        in_data_0.append(line.rstrip(\"\\r\\n\"))\n",
      "# convert to dataframe\n",
      "rds_df = pd.DataFrame(in_data_0) \n",
      "print rds_df.head()\n",
      "    "
     ],
     "language": "python",
     "metadata": {},
     "outputs": [
      {
       "output_type": "stream",
       "stream": "stdout",
       "text": [
        "                                                   0\n",
        "0  attr1,attr2,attr3,attr4,attr5,attr6,attr7,attr...\n",
        "1  0,1,1,32,0,0,0,1,0,0,0,0,0,0,812,0,0,0,0,0,0,0...\n",
        "2  0,0,1,133,0,0,1,0,0,0,0,0,0,0,437,0,0,0,1,0,0,...\n",
        "3  0,0,0,109,0,0,0,1,0,0,0,0,0,0,812,1,0,0,1,0,0,...\n",
        "4  0,0,0,113,0,0,0,1,0,0,0,0,0,0,812,1,0,0,1,0,0,...\n",
        "                                                   0\n",
        "0  attr1,attr2,attr3,attr4,attr5,attr6,attr7,attr...\n",
        "1  65,6,2532,166,125,0.6,0.8,38998,80415,6.19,20....\n",
        "2  26,39,1722,139,114,0.2,0.2,163304,47725,14.6,1...\n",
        "3  3,1,544,80,27,1,0.4,368791,4454,0,0,0,0,0.4,0,...\n",
        "4  60,31,6355,358,264,6,13.8,251366,242337,0,0,0,..."
       ]
      },
      {
       "output_type": "stream",
       "stream": "stdout",
       "text": [
        "\n"
       ]
      }
     ],
     "prompt_number": 19
    },
    {
     "cell_type": "markdown",
     "metadata": {},
     "source": [
      "Predictions on the Testing Set\n",
      "------------------------------"
     ]
    },
    {
     "cell_type": "code",
     "collapsed": false,
     "input": [],
     "language": "python",
     "metadata": {},
     "outputs": []
    }
   ],
   "metadata": {}
  }
 ]
}